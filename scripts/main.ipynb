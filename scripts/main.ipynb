{
 "cells": [
  {
   "cell_type": "code",
   "execution_count": 1,
   "id": "advanced-indicator",
   "metadata": {},
   "outputs": [],
   "source": [
    "import numpy as np\n",
    "import cv2\n",
    "import pandas as pd\n",
    "import os\n",
    "import face_recognition\n",
    "import argparse\n",
    "import sqlite3\n",
    "import base64\n",
    "import pickle\n",
    "import tensorflow as tf\n",
    "import matplotlib.pyplot as plt"
   ]
  },
  {
   "cell_type": "code",
   "execution_count": 2,
   "id": "dedicated-circuit",
   "metadata": {},
   "outputs": [],
   "source": [
    "models_dir = os.path.join(os.path.dirname(\n",
    "    os.getcwd()), \"project\", \"base\", \"models\")\n",
    "prototxtPath = os.path.join(\n",
    "    models_dir, \"Resnet_SSD_deploy.prototxt\")\n",
    "weightsPath = os.path.join(\n",
    "    models_dir, \"Res10_300x300_SSD_iter_140000.caffemodel\")\n",
    "faceNet = cv2.dnn.readNetFromCaffe(\n",
    "    prototxtPath, weightsPath)\n",
    "\n",
    "db_dir = os.path.join(os.path.dirname(\n",
    "    os.getcwd()), \"project\", \"db.sqlite3\")"
   ]
  },
  {
   "cell_type": "code",
   "execution_count": 3,
   "id": "driving-weight",
   "metadata": {},
   "outputs": [],
   "source": [
    "fontFace = cv2.FONT_HERSHEY_SIMPLEX;\n",
    "fontScale = 0.5;\n",
    "thickness = 3;"
   ]
  },
  {
   "cell_type": "code",
   "execution_count": 4,
   "id": "celtic-robinson",
   "metadata": {},
   "outputs": [],
   "source": [
    "conn = sqlite3.connect(db_dir)\n",
    "students = pd.read_sql(f\"SELECT * FROM school_student WHERE study_class_id == {1}\", conn)\n",
    "users = pd.read_sql(f\"SELECT * FROM account_user WHERE id in {tuple(students['user_id'].tolist())}\", conn)"
   ]
  },
  {
   "cell_type": "code",
   "execution_count": 5,
   "id": "acquired-loading",
   "metadata": {},
   "outputs": [
    {
     "data": {
      "text/html": [
       "<div>\n",
       "<style scoped>\n",
       "    .dataframe tbody tr th:only-of-type {\n",
       "        vertical-align: middle;\n",
       "    }\n",
       "\n",
       "    .dataframe tbody tr th {\n",
       "        vertical-align: top;\n",
       "    }\n",
       "\n",
       "    .dataframe thead th {\n",
       "        text-align: right;\n",
       "    }\n",
       "</style>\n",
       "<table border=\"1\" class=\"dataframe\">\n",
       "  <thead>\n",
       "    <tr style=\"text-align: right;\">\n",
       "      <th></th>\n",
       "      <th>student_id</th>\n",
       "      <th>contact</th>\n",
       "      <th>address</th>\n",
       "      <th>face_image</th>\n",
       "      <th>face_encoding</th>\n",
       "      <th>study_class_id</th>\n",
       "      <th>user_id</th>\n",
       "    </tr>\n",
       "  </thead>\n",
       "  <tbody>\n",
       "    <tr>\n",
       "      <th>0</th>\n",
       "      <td>18030073</td>\n",
       "      <td>9867719666</td>\n",
       "      <td>Butwal, Nepal</td>\n",
       "      <td>face_images/18030073_face.jpg</td>\n",
       "      <td>b'gASVjgQAAAAAAABdlIwVbnVtcHkuY29yZS5tdWx0aWFy...</td>\n",
       "      <td>1</td>\n",
       "      <td>44</td>\n",
       "    </tr>\n",
       "    <tr>\n",
       "      <th>1</th>\n",
       "      <td>18030074</td>\n",
       "      <td>9867719666</td>\n",
       "      <td>Butwal, Nepal</td>\n",
       "      <td>face_images/18030074_face_ly3E2B4.jpg</td>\n",
       "      <td>b'gASVjgQAAAAAAABdlIwVbnVtcHkuY29yZS5tdWx0aWFy...</td>\n",
       "      <td>1</td>\n",
       "      <td>43</td>\n",
       "    </tr>\n",
       "  </tbody>\n",
       "</table>\n",
       "</div>"
      ],
      "text/plain": [
       "   student_id     contact        address  \\\n",
       "0    18030073  9867719666  Butwal, Nepal   \n",
       "1    18030074  9867719666  Butwal, Nepal   \n",
       "\n",
       "                              face_image  \\\n",
       "0          face_images/18030073_face.jpg   \n",
       "1  face_images/18030074_face_ly3E2B4.jpg   \n",
       "\n",
       "                                       face_encoding  study_class_id  user_id  \n",
       "0  b'gASVjgQAAAAAAABdlIwVbnVtcHkuY29yZS5tdWx0aWFy...               1       44  \n",
       "1  b'gASVjgQAAAAAAABdlIwVbnVtcHkuY29yZS5tdWx0aWFy...               1       43  "
      ]
     },
     "execution_count": 5,
     "metadata": {},
     "output_type": "execute_result"
    }
   ],
   "source": [
    "students"
   ]
  },
  {
   "cell_type": "code",
   "execution_count": 6,
   "id": "swedish-halifax",
   "metadata": {},
   "outputs": [
    {
     "data": {
      "text/html": [
       "<div>\n",
       "<style scoped>\n",
       "    .dataframe tbody tr th:only-of-type {\n",
       "        vertical-align: middle;\n",
       "    }\n",
       "\n",
       "    .dataframe tbody tr th {\n",
       "        vertical-align: top;\n",
       "    }\n",
       "\n",
       "    .dataframe thead th {\n",
       "        text-align: right;\n",
       "    }\n",
       "</style>\n",
       "<table border=\"1\" class=\"dataframe\">\n",
       "  <thead>\n",
       "    <tr style=\"text-align: right;\">\n",
       "      <th></th>\n",
       "      <th>id</th>\n",
       "      <th>password</th>\n",
       "      <th>last_login</th>\n",
       "      <th>email</th>\n",
       "      <th>full_name</th>\n",
       "      <th>is_staff</th>\n",
       "      <th>is_active</th>\n",
       "      <th>is_admin</th>\n",
       "    </tr>\n",
       "  </thead>\n",
       "  <tbody>\n",
       "    <tr>\n",
       "      <th>0</th>\n",
       "      <td>43</td>\n",
       "      <td>pbkdf2_sha256$216000$Cud7LVBXGSZQ$u+g2REexrNsQ...</td>\n",
       "      <td>2021-02-18 05:23:53.811151</td>\n",
       "      <td>ajeetkharell@gmail.com</td>\n",
       "      <td>Amit Kharel</td>\n",
       "      <td>0</td>\n",
       "      <td>1</td>\n",
       "      <td>0</td>\n",
       "    </tr>\n",
       "    <tr>\n",
       "      <th>1</th>\n",
       "      <td>44</td>\n",
       "      <td>pbkdf2_sha256$216000$oxkMznNSjahq$AiRGeua7NpsY...</td>\n",
       "      <td>2021-02-25 03:24:35.689097</td>\n",
       "      <td>mramitkharel@gmail.com</td>\n",
       "      <td>Ajeet Kharel</td>\n",
       "      <td>0</td>\n",
       "      <td>1</td>\n",
       "      <td>0</td>\n",
       "    </tr>\n",
       "  </tbody>\n",
       "</table>\n",
       "</div>"
      ],
      "text/plain": [
       "   id                                           password  \\\n",
       "0  43  pbkdf2_sha256$216000$Cud7LVBXGSZQ$u+g2REexrNsQ...   \n",
       "1  44  pbkdf2_sha256$216000$oxkMznNSjahq$AiRGeua7NpsY...   \n",
       "\n",
       "                   last_login                   email     full_name  is_staff  \\\n",
       "0  2021-02-18 05:23:53.811151  ajeetkharell@gmail.com   Amit Kharel         0   \n",
       "1  2021-02-25 03:24:35.689097  mramitkharel@gmail.com  Ajeet Kharel         0   \n",
       "\n",
       "   is_active  is_admin  \n",
       "0          1         0  \n",
       "1          1         0  "
      ]
     },
     "execution_count": 6,
     "metadata": {},
     "output_type": "execute_result"
    }
   ],
   "source": [
    "users"
   ]
  },
  {
   "cell_type": "code",
   "execution_count": 7,
   "id": "undefined-recording",
   "metadata": {
    "tags": []
   },
   "outputs": [],
   "source": [
    "def get_encoding(new_encoding):\n",
    "    np_bytes = base64.b64decode(new_encoding)\n",
    "    np_array = pickle.loads(np_bytes)\n",
    "    return np_array[0]"
   ]
  },
  {
   "cell_type": "code",
   "execution_count": 8,
   "id": "reliable-bhutan",
   "metadata": {},
   "outputs": [],
   "source": [
    "known_face_encodings = students['face_encoding'].apply(get_encoding).to_list()\n",
    "known_face_ids = students[\"student_id\"].to_list()"
   ]
  },
  {
   "cell_type": "code",
   "execution_count": 9,
   "id": "cathedral-worry",
   "metadata": {
    "tags": []
   },
   "outputs": [],
   "source": [
    "def run_stream(cam_idx):\n",
    "    global encoding\n",
    "    cap = cv2.VideoCapture(cam_idx)\n",
    "    while True:\n",
    "        ret, frame = cap.read()\n",
    "        if ret:\n",
    "            (h, w) = frame.shape[:2]\n",
    "            small_frame = cv2.resize(frame, (0, 0), fx=0.25, fy=0.25)\n",
    "\n",
    "            # Convert the image from BGR color (which OpenCV uses) to RGB color (which  face_recognition uses)\n",
    "            rgb_small_frame = small_frame[:, :, ::-1]\n",
    "\n",
    "            face_locations = face_recognition.face_locations(rgb_small_frame)\n",
    "            face_encodings = face_recognition.face_encodings(rgb_small_frame, face_locations)\n",
    "\n",
    "            face_names = []\n",
    "            for face_encoding in face_encodings:\n",
    "                # See if the face is a match for the known face(s)\n",
    "                matches = face_recognition.compare_faces(known_face_encodings, face_encoding)\n",
    "                name = \"Unknown\"\n",
    "\n",
    "                # # If a match was found in known_face_encodings, just use the first one.\n",
    "                # if True in matches:\n",
    "                #     first_match_index = matches.index(True)\n",
    "                #     name = known_face_names[first_match_index]\n",
    "\n",
    "                # Or instead, use the known face with the smallest distance to the new face\n",
    "                face_distances = face_recognition.face_distance(known_face_encodings, face_encoding)\n",
    "                best_match_index = np.argmin(face_distances)\n",
    "                if matches[best_match_index]:\n",
    "                    name = known_face_ids[best_match_index]\n",
    "\n",
    "                face_names.append(name)\n",
    "\n",
    "            for (top, right, bottom, left), name in zip(face_locations, face_names):\n",
    "                    # Scale back up face locations since the frame we detected in was scaled to 1/4 size\n",
    "                top *= 4\n",
    "                right *= 4\n",
    "                bottom *= 4\n",
    "                left *= 4\n",
    "                \n",
    "                # Draw a box around the face\n",
    "                cv2.rectangle(frame, (left, top), (right, bottom), (0, 0, 255), 2)\n",
    "\n",
    "                # Draw a label with a name below the face\n",
    "                cv2.rectangle(frame, (left, bottom - 35), (right, bottom), (0, 0, 255), cv2.FILLED)\n",
    "                font = cv2.FONT_HERSHEY_DUPLEX\n",
    "                cv2.putText(frame, str(name), (left + 6, bottom - 6), font, 1.0, (255, 255, 255), 1)\n",
    "                    \n",
    "            cv2.imshow(\"Face AMS\", frame)\n",
    "            if cv2.waitKey(1) & 0xFF == ord('q'):\n",
    "                break\n",
    "        else:\n",
    "            break\n",
    "    cap.release()\n",
    "    cv2.destroyAllWindows()"
   ]
  },
  {
   "cell_type": "code",
   "execution_count": null,
   "id": "synthetic-charm",
   "metadata": {},
   "outputs": [],
   "source": []
  },
  {
   "cell_type": "code",
   "execution_count": null,
   "id": "frank-cincinnati",
   "metadata": {},
   "outputs": [],
   "source": []
  },
  {
   "cell_type": "code",
   "execution_count": 10,
   "id": "ongoing-nirvana",
   "metadata": {},
   "outputs": [],
   "source": [
    "run_stream(0)"
   ]
  },
  {
   "cell_type": "code",
   "execution_count": null,
   "id": "changing-logic",
   "metadata": {},
   "outputs": [],
   "source": []
  },
  {
   "cell_type": "code",
   "execution_count": null,
   "id": "thick-speaking",
   "metadata": {},
   "outputs": [],
   "source": []
  },
  {
   "cell_type": "code",
   "execution_count": 11,
   "id": "international-primary",
   "metadata": {},
   "outputs": [],
   "source": [
    "def run_stream(cam_idx):\n",
    "    global encoding\n",
    "    cap = cv2.VideoCapture(cam_idx)\n",
    "    while True:\n",
    "        ret, frame = cap.read()\n",
    "        if ret:\n",
    "            (h, w) = frame.shape[:2]\n",
    "            frame = cv2.flip(frame, 1)\n",
    "            \n",
    "            encoding = face_recognition.face_encodings(frame)\n",
    "\n",
    "            result = students['face_encoding'].apply(get_similarity)\n",
    "            student_info = students[result==True].iloc[0]\n",
    "\n",
    "            (label_width, label_height), baseline = cv2.getTextSize(str(student_info[\"student_id\"]), fontFace, fontScale, thickness)\n",
    "            cv2.putText(frame, str(student_info[\"student_id\"]), (((startX+endX)//2-label_width), startX), fontFace, fontScale, (255, 0, 0))\n",
    "                    \n",
    "            cv2.imshow(\"Face AMS\", frame)\n",
    "            if cv2.waitKey(1) & 0xFF == ord('q'):\n",
    "                break\n",
    "        else:\n",
    "            break\n",
    "    cap.release()\n",
    "    cv2.destroyAllWindows()"
   ]
  },
  {
   "cell_type": "code",
   "execution_count": 12,
   "id": "forward-processor",
   "metadata": {},
   "outputs": [
    {
     "ename": "NameError",
     "evalue": "name 'get_similarity' is not defined",
     "output_type": "error",
     "traceback": [
      "\u001b[1;31m---------------------------------------------------------------------------\u001b[0m",
      "\u001b[1;31mNameError\u001b[0m                                 Traceback (most recent call last)",
      "\u001b[1;32m<ipython-input-12-911ec08de74a>\u001b[0m in \u001b[0;36m<module>\u001b[1;34m\u001b[0m\n\u001b[1;32m----> 1\u001b[1;33m \u001b[0mrun_stream\u001b[0m\u001b[1;33m(\u001b[0m\u001b[1;36m0\u001b[0m\u001b[1;33m)\u001b[0m\u001b[1;33m\u001b[0m\u001b[1;33m\u001b[0m\u001b[0m\n\u001b[0m",
      "\u001b[1;32m<ipython-input-11-e23b7c62caa3>\u001b[0m in \u001b[0;36mrun_stream\u001b[1;34m(cam_idx)\u001b[0m\n\u001b[0;32m     10\u001b[0m             \u001b[0mencoding\u001b[0m \u001b[1;33m=\u001b[0m \u001b[0mface_recognition\u001b[0m\u001b[1;33m.\u001b[0m\u001b[0mface_encodings\u001b[0m\u001b[1;33m(\u001b[0m\u001b[0mframe\u001b[0m\u001b[1;33m)\u001b[0m\u001b[1;33m\u001b[0m\u001b[1;33m\u001b[0m\u001b[0m\n\u001b[0;32m     11\u001b[0m \u001b[1;33m\u001b[0m\u001b[0m\n\u001b[1;32m---> 12\u001b[1;33m             \u001b[0mresult\u001b[0m \u001b[1;33m=\u001b[0m \u001b[0mstudents\u001b[0m\u001b[1;33m[\u001b[0m\u001b[1;34m'face_encoding'\u001b[0m\u001b[1;33m]\u001b[0m\u001b[1;33m.\u001b[0m\u001b[0mapply\u001b[0m\u001b[1;33m(\u001b[0m\u001b[0mget_similarity\u001b[0m\u001b[1;33m)\u001b[0m\u001b[1;33m\u001b[0m\u001b[1;33m\u001b[0m\u001b[0m\n\u001b[0m\u001b[0;32m     13\u001b[0m             \u001b[0mstudent_info\u001b[0m \u001b[1;33m=\u001b[0m \u001b[0mstudents\u001b[0m\u001b[1;33m[\u001b[0m\u001b[0mresult\u001b[0m\u001b[1;33m==\u001b[0m\u001b[1;32mTrue\u001b[0m\u001b[1;33m]\u001b[0m\u001b[1;33m.\u001b[0m\u001b[0miloc\u001b[0m\u001b[1;33m[\u001b[0m\u001b[1;36m0\u001b[0m\u001b[1;33m]\u001b[0m\u001b[1;33m\u001b[0m\u001b[1;33m\u001b[0m\u001b[0m\n\u001b[0;32m     14\u001b[0m \u001b[1;33m\u001b[0m\u001b[0m\n",
      "\u001b[1;31mNameError\u001b[0m: name 'get_similarity' is not defined"
     ]
    }
   ],
   "source": [
    "run_stream(0)"
   ]
  },
  {
   "cell_type": "code",
   "execution_count": null,
   "id": "italian-kingdom",
   "metadata": {},
   "outputs": [],
   "source": []
  }
 ],
 "metadata": {
  "kernelspec": {
   "display_name": "Python 3",
   "language": "python",
   "name": "python3"
  },
  "language_info": {
   "codemirror_mode": {
    "name": "ipython",
    "version": 3
   },
   "file_extension": ".py",
   "mimetype": "text/x-python",
   "name": "python",
   "nbconvert_exporter": "python",
   "pygments_lexer": "ipython3",
   "version": "3.8.0"
  }
 },
 "nbformat": 4,
 "nbformat_minor": 5
}
