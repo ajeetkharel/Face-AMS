{
 "cells": [
  {
   "cell_type": "code",
   "execution_count": 9,
   "id": "finnish-gates",
   "metadata": {},
   "outputs": [],
   "source": [
    "import os\n",
    "import cv2\n",
    "import dlib\n",
    "import base64\n",
    "import pickle\n",
    "import sqlite3\n",
    "import datetime\n",
    "import face_recognition\n",
    "import numpy as np\n",
    "import pandas as pd\n",
    "import matplotlib.pyplot as plt"
   ]
  },
  {
   "cell_type": "code",
   "execution_count": 10,
   "id": "functioning-anger",
   "metadata": {},
   "outputs": [
    {
     "name": "stdout",
     "output_type": "stream",
     "text": [
      "F:\\Face AMS\\scripts\\project\\base\\models\n"
     ]
    },
    {
     "ename": "error",
     "evalue": "OpenCV(4.5.1) C:\\Users\\appveyor\\AppData\\Local\\Temp\\1\\pip-req-build-kh7iq4w7\\opencv\\modules\\dnn\\src\\caffe\\caffe_io.cpp:1121: error: (-2:Unspecified error) FAILED: fs.is_open(). Can't open \"F:\\Face AMS\\scripts\\project\\base\\models\\Resnet_SSD_deploy.prototxt\" in function 'cv::dnn::ReadProtoFromTextFile'\n",
     "output_type": "error",
     "traceback": [
      "\u001b[1;31m---------------------------------------------------------------------------\u001b[0m",
      "\u001b[1;31merror\u001b[0m                                     Traceback (most recent call last)",
      "\u001b[1;32m<ipython-input-10-9ebae65bea9f>\u001b[0m in \u001b[0;36m<module>\u001b[1;34m\u001b[0m\n\u001b[0;32m      6\u001b[0m     models_dir, \"Res10_300x300_SSD_iter_140000.caffemodel\")\n\u001b[0;32m      7\u001b[0m \u001b[0mprint\u001b[0m\u001b[1;33m(\u001b[0m\u001b[0mmodels_dir\u001b[0m\u001b[1;33m)\u001b[0m\u001b[1;33m\u001b[0m\u001b[1;33m\u001b[0m\u001b[0m\n\u001b[1;32m----> 8\u001b[1;33m faceNet = cv2.dnn.readNetFromCaffe(\n\u001b[0m\u001b[0;32m      9\u001b[0m     prototxtPath, weightsPath)\n\u001b[0;32m     10\u001b[0m db_dir = os.path.join(os.path.dirname(\n",
      "\u001b[1;31merror\u001b[0m: OpenCV(4.5.1) C:\\Users\\appveyor\\AppData\\Local\\Temp\\1\\pip-req-build-kh7iq4w7\\opencv\\modules\\dnn\\src\\caffe\\caffe_io.cpp:1121: error: (-2:Unspecified error) FAILED: fs.is_open(). Can't open \"F:\\Face AMS\\scripts\\project\\base\\models\\Resnet_SSD_deploy.prototxt\" in function 'cv::dnn::ReadProtoFromTextFile'\n"
     ]
    }
   ],
   "source": [
    "models_dir = os.path.join(os.path.dirname(\n",
    "    os.getcwd()), \"project\", \"base\", \"models\")\n",
    "prototxtPath = os.path.join(\n",
    "    models_dir, \"Resnet_SSD_deploy.prototxt\")\n",
    "weightsPath = os.path.join(\n",
    "    models_dir, \"Res10_300x300_SSD_iter_140000.caffemodel\")\n",
    "print(models_dir)\n",
    "faceNet = cv2.dnn.readNetFromCaffe(\n",
    "    prototxtPath, weightsPath)\n",
    "db_dir = os.path.join(os.path.dirname(\n",
    "    os.getcwd()), \"project\", \"db.sqlite3\")"
   ]
  },
  {
   "cell_type": "code",
   "execution_count": 12,
   "id": "cutting-mercury",
   "metadata": {},
   "outputs": [
    {
     "data": {
      "text/plain": [
       "'F:\\\\Face AMS\\\\scripts\\\\test'"
      ]
     },
     "execution_count": 12,
     "metadata": {},
     "output_type": "execute_result"
    }
   ],
   "source": [
    "os.getcwd()"
   ]
  },
  {
   "cell_type": "code",
   "execution_count": null,
   "id": "vocal-tokyo",
   "metadata": {},
   "outputs": [],
   "source": [
    "def decode(new_encoding):\n",
    "    np_bytes = base64.b64decode(new_encoding)\n",
    "    np_array = pickle.loads(np_bytes)\n",
    "    return np_array[0]"
   ]
  },
  {
   "cell_type": "code",
   "execution_count": null,
   "id": "dressed-issue",
   "metadata": {},
   "outputs": [],
   "source": [
    "conn = sqlite3.connect(db_dir)\n",
    "students = pd.read_sql(f\"SELECT * FROM school_student WHERE study_class_id == {1}\", conn)"
   ]
  },
  {
   "cell_type": "code",
   "execution_count": null,
   "id": "likely-israeli",
   "metadata": {},
   "outputs": [],
   "source": [
    "students"
   ]
  },
  {
   "cell_type": "code",
   "execution_count": null,
   "id": "lyric-ballot",
   "metadata": {},
   "outputs": [],
   "source": [
    "students[\"face_encoding\"] = students[\"face_encoding\"].apply(decode)"
   ]
  },
  {
   "cell_type": "code",
   "execution_count": null,
   "id": "through-portsmouth",
   "metadata": {},
   "outputs": [],
   "source": [
    "students"
   ]
  },
  {
   "cell_type": "code",
   "execution_count": null,
   "id": "special-commission",
   "metadata": {},
   "outputs": [],
   "source": [
    "users = pd.read_sql(f\"SELECT * FROM account_user WHERE id in ({students['user_id'].tolist()})\".replace('[','').replace(']', ''), conn)"
   ]
  },
  {
   "cell_type": "code",
   "execution_count": null,
   "id": "sunrise-wrist",
   "metadata": {},
   "outputs": [],
   "source": [
    "users[\"user_id\"] = users[\"id\"]\n",
    "users"
   ]
  },
  {
   "cell_type": "code",
   "execution_count": null,
   "id": "alpine-halloween",
   "metadata": {},
   "outputs": [],
   "source": [
    "merged = pd.merge(students, users, on='user_id')[[\"student_id\", \"face_encoding\", \"full_name\"]]"
   ]
  },
  {
   "cell_type": "code",
   "execution_count": null,
   "id": "responsible-might",
   "metadata": {},
   "outputs": [],
   "source": [
    "merged"
   ]
  },
  {
   "cell_type": "code",
   "execution_count": null,
   "id": "liberal-piece",
   "metadata": {},
   "outputs": [],
   "source": [
    "def get_nearest_student(b):\n",
    "    def get_sim(a):\n",
    "        return np.dot(a, b[0])/(np.linalg.norm(a)*np.linalg.norm(b[0]))\n",
    "    \n",
    "    return merged.iloc[merged[\"face_encoding\"].apply(get_sim).idxmax()]"
   ]
  },
  {
   "cell_type": "code",
   "execution_count": null,
   "id": "furnished-guinea",
   "metadata": {},
   "outputs": [],
   "source": [
    "routines = pd.read_sql(f\"SELECT * FROM school_routine WHERE _class_id = {1}\", conn)"
   ]
  },
  {
   "cell_type": "code",
   "execution_count": null,
   "id": "enhanced-michael",
   "metadata": {},
   "outputs": [],
   "source": [
    "routines"
   ]
  },
  {
   "cell_type": "code",
   "execution_count": null,
   "id": "middle-cross",
   "metadata": {},
   "outputs": [],
   "source": [
    "pd.read_sql(f\"SELECT * FROM school_subject where id = {subject_id}\", conn)"
   ]
  },
  {
   "cell_type": "code",
   "execution_count": 54,
   "id": "impaired-indonesian",
   "metadata": {},
   "outputs": [],
   "source": [
    "def check_routine(time, date):\n",
    "    for index, row in routines.iterrows():\n",
    "        start_time = datetime.datetime.strptime(row[\"start_time\"], \"%H:%M:%S\").time()\n",
    "        end_time = datetime.datetime.strptime(row[\"end_time\"], \"%H:%M:%S\").time()\n",
    "        \n",
    "        if time >= start_time and time <= end_time:\n",
    "            return (row[\"id\"],\n",
    "                    datetime.datetime.combine(date, start_time).strftime('%Y-%m-%d %H:%M:%S'), \n",
    "                    datetime.datetime.combine(date, end_time).strftime('%Y-%m-%d %H:%M:%S'))\n",
    "        \n",
    "    return None, None, None"
   ]
  },
  {
   "cell_type": "code",
   "execution_count": 55,
   "id": "welsh-working",
   "metadata": {},
   "outputs": [],
   "source": [
    "def attendance_exists(attendance, start_time, end_time):\n",
    "    result = pd.read_sql(f\"SELECT * FROM school_attendance WHERE \\\n",
    "                routine_id={attendance[0]} AND \\\n",
    "                student_id = {attendance[1]} AND \\\n",
    "                date BETWEEN '{start_time}' AND '{end_time}'\", conn)\n",
    "    return len(result) != 0"
   ]
  },
  {
   "cell_type": "code",
   "execution_count": 56,
   "id": "capable-franklin",
   "metadata": {
    "tags": []
   },
   "outputs": [],
   "source": [
    "attendances = pd.read_sql(f\"SELECT * FROM school_attendance WHERE routine_id in ({routines['id'].tolist()})\".replace('[','').replace(']', ''), conn)"
   ]
  },
  {
   "cell_type": "code",
   "execution_count": 57,
   "id": "hawaiian-november",
   "metadata": {},
   "outputs": [
    {
     "data": {
      "text/html": [
       "<div>\n",
       "<style scoped>\n",
       "    .dataframe tbody tr th:only-of-type {\n",
       "        vertical-align: middle;\n",
       "    }\n",
       "\n",
       "    .dataframe tbody tr th {\n",
       "        vertical-align: top;\n",
       "    }\n",
       "\n",
       "    .dataframe thead th {\n",
       "        text-align: right;\n",
       "    }\n",
       "</style>\n",
       "<table border=\"1\" class=\"dataframe\">\n",
       "  <thead>\n",
       "    <tr style=\"text-align: right;\">\n",
       "      <th></th>\n",
       "      <th>id</th>\n",
       "      <th>routine_id</th>\n",
       "      <th>student_id</th>\n",
       "      <th>status</th>\n",
       "      <th>date</th>\n",
       "    </tr>\n",
       "  </thead>\n",
       "  <tbody>\n",
       "  </tbody>\n",
       "</table>\n",
       "</div>"
      ],
      "text/plain": [
       "Empty DataFrame\n",
       "Columns: [id, routine_id, student_id, status, date]\n",
       "Index: []"
      ]
     },
     "execution_count": 57,
     "metadata": {},
     "output_type": "execute_result"
    }
   ],
   "source": [
    "attendances"
   ]
  },
  {
   "cell_type": "code",
   "execution_count": 58,
   "id": "superior-zimbabwe",
   "metadata": {
    "tags": []
   },
   "outputs": [],
   "source": [
    "cap = cv2.VideoCapture(0)\n",
    "faces = []\n",
    "while True:\n",
    "    ret, frame = cap.read()\n",
    "    if ret:\n",
    "        (h, w) = frame.shape[:2]\n",
    "        frame =  cv2.flip(frame, 1)\n",
    "        blob = cv2.dnn.blobFromImage(frame, 1.0, (224, 224),\n",
    "            (104.0, 177.0, 123.0))\n",
    "        faceNet.setInput(blob)\n",
    "        detections = faceNet.forward()\n",
    "\n",
    "        for i in range(0, detections.shape[2]):\n",
    "            confidence = detections[0, 0, i, 2]\n",
    "\n",
    "            if confidence > 0.5:\n",
    "                box = detections[0, 0, i, 3:7] * np.array([w, h, w, h])\n",
    "                (startX, startY, endX, endY) = box.astype(\"int\")\n",
    "\n",
    "                (startX, startY) = (max(0, startX), max(0, startY))\n",
    "                (endX, endY) = (min(w - 1, endX), min(h - 1, endY))\n",
    "                \n",
    "                faceimage = frame[startY:endY, startX:endX]\n",
    "                faceimage = faceimage[:, :, ::-1]\n",
    "\n",
    "                faces.append(faceimage)\n",
    "                \n",
    "                face_encodings = face_recognition.face_encodings(faceimage)\n",
    "                if face_encodings:\n",
    "                    student_details = get_nearest_student(face_encodings)\n",
    "                    date = datetime.datetime.now()\n",
    "                    current_time = date.time()\n",
    "                    current_datetime = date.strftime('%Y-%m-%d %H:%M:%S')\n",
    "                    routine, start_time, end_time = check_routine(current_time, date.date())\n",
    "                    if routine is not None:\n",
    "                        attendance = (routine, int(student_details[\"student_id\"]), 'P', current_datetime)\n",
    "                        if not attendance_exists(attendance, start_time, end_time):\n",
    "                            sql = ''' INSERT INTO school_attendance(routine_id, student_id, status, date)\n",
    "                                          VALUES(?,?,?,?) '''\n",
    "                            cur = conn.cursor()\n",
    "                            cur.execute(sql, attendance)\n",
    "                            conn.commit()\n",
    "                    \n",
    "                    cv2.rectangle(frame, (startX, startY),\n",
    "                                  (endX, endY), (255, 255, 0), 2)\n",
    "                    cv2.putText(frame, student_details[\"full_name\"], (startX, startY-40), cv2.FONT_HERSHEY_SIMPLEX, 0.9, (36,255,12), 2)\n",
    "                    cv2.putText(frame, str(student_details[\"student_id\"]), (startX, startY-10), cv2.FONT_HERSHEY_SIMPLEX, 0.9, (36,255,12), 2)\n",
    "        cv2.imshow(\"Face AMS\", frame)\n",
    "        if cv2.waitKey(1) & 0xFF == ord('q'):\n",
    "            break\n",
    "    else:\n",
    "        break\n",
    "cap.release()\n",
    "cv2.destroyAllWindows()"
   ]
  },
  {
   "cell_type": "code",
   "execution_count": null,
   "id": "fresh-thought",
   "metadata": {},
   "outputs": [],
   "source": []
  }
 ],
 "metadata": {
  "kernelspec": {
   "display_name": "Python 3",
   "language": "python",
   "name": "python3"
  },
  "language_info": {
   "codemirror_mode": {
    "name": "ipython",
    "version": 3
   },
   "file_extension": ".py",
   "mimetype": "text/x-python",
   "name": "python",
   "nbconvert_exporter": "python",
   "pygments_lexer": "ipython3",
   "version": "3.8.0"
  }
 },
 "nbformat": 4,
 "nbformat_minor": 5
}
